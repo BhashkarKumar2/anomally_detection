{
 "cells": [
  {
   "cell_type": "code",
   "execution_count": 1,
   "metadata": {
    "_cell_guid": "7367a798-864e-4ac2-9afe-8541624ce221",
    "_uuid": "f693b8cd-b19b-486b-8bd7-808e9786daae",
    "collapsed": false,
    "execution": {
     "iopub.execute_input": "2025-04-12T15:01:48.189585Z",
     "iopub.status.busy": "2025-04-12T15:01:48.189381Z",
     "iopub.status.idle": "2025-04-12T15:01:49.297130Z",
     "shell.execute_reply": "2025-04-12T15:01:49.296314Z",
     "shell.execute_reply.started": "2025-04-12T15:01:48.189565Z"
    },
    "jupyter": {
     "outputs_hidden": false
    },
    "trusted": true
   },
   "outputs": [],
   "source": [
    "# This Python 3 environment comes with many helpful analytics libraries installed\n",
    "# It is defined by the kaggle/python Docker image: https://github.com/kaggle/docker-python\n",
    "# For example, here's several helpful packages to load\n",
    "\n",
    "import numpy as np # linear algebra\n",
    "import pandas as pd # data processing, CSV file I/O (e.g. pd.read_csv)\n",
    "\n",
    "# Input data files are available in the read-only \"../input/\" directory\n",
    "# For example, running this (by clicking run or pressing Shift+Enter) will list all files under the input directory\n",
    "\n",
    "import os\n",
    "for dirname, _, filenames in os.walk('/kaggle/working'):\n",
    "    for filename in filenames:\n",
    "        print(os.path.join(dirname, filename))\n",
    "\n",
    "# You can write up to 20GB to the current directory (/kaggle/working/) that gets preserved as output when you create a version using \"Save & Run All\" \n",
    "# You can also write temporary files to /kaggle/temp/, but they won't be saved outside of the current session"
   ]
  },
  {
   "cell_type": "code",
   "execution_count": null,
   "metadata": {
    "_cell_guid": "e3c918e6-4b07-4fd2-a84f-45ec3f5a6b74",
    "_uuid": "45487441-55a5-4509-a150-4d69e8a30394",
    "collapsed": false,
    "execution": {
     "iopub.execute_input": "2025-04-12T15:01:53.045193Z",
     "iopub.status.busy": "2025-04-12T15:01:53.044911Z",
     "iopub.status.idle": "2025-04-12T15:02:02.895294Z",
     "shell.execute_reply": "2025-04-12T15:02:02.894412Z",
     "shell.execute_reply.started": "2025-04-12T15:01:53.045170Z"
    },
    "jupyter": {
     "outputs_hidden": false
    },
    "trusted": true
   },
   "outputs": [],
   "source": [
    "!apt install aria2"
   ]
  },
  {
   "cell_type": "code",
   "execution_count": null,
   "metadata": {
    "_cell_guid": "9fddd85e-ccf0-43ba-843d-0300e235e3f9",
    "_uuid": "a553e57b-0363-4aae-ae7b-7a592d81caa5",
    "collapsed": false,
    "execution": {
     "iopub.execute_input": "2025-04-12T14:52:14.973650Z",
     "iopub.status.busy": "2025-04-12T14:52:14.973399Z",
     "iopub.status.idle": "2025-04-12T14:52:15.090439Z",
     "shell.execute_reply": "2025-04-12T14:52:15.089711Z",
     "shell.execute_reply.started": "2025-04-12T14:52:14.973628Z"
    },
    "jupyter": {
     "outputs_hidden": false
    },
    "trusted": true
   },
   "outputs": [],
   "source": [
    "!pwd"
   ]
  },
  {
   "cell_type": "code",
   "execution_count": null,
   "metadata": {
    "_cell_guid": "9adb691d-195a-47af-8428-19efd55fe816",
    "_uuid": "41ddf1d2-8455-42b8-b4b8-d832f871364a",
    "collapsed": false,
    "execution": {
     "iopub.execute_input": "2025-04-12T14:52:15.091835Z",
     "iopub.status.busy": "2025-04-12T14:52:15.091565Z",
     "iopub.status.idle": "2025-04-12T14:52:15.210902Z",
     "shell.execute_reply": "2025-04-12T14:52:15.209957Z",
     "shell.execute_reply.started": "2025-04-12T14:52:15.091812Z"
    },
    "jupyter": {
     "outputs_hidden": false
    },
    "trusted": true
   },
   "outputs": [],
   "source": [
    "!ls"
   ]
  },
  {
   "cell_type": "code",
   "execution_count": null,
   "metadata": {
    "_cell_guid": "b86bc65f-a1bf-41d0-8f33-138b603a26b1",
    "_uuid": "d0a81c3b-de6a-4cb6-9d94-87ba627eca70",
    "collapsed": false,
    "execution": {
     "iopub.execute_input": "2025-04-12T15:02:07.033545Z",
     "iopub.status.busy": "2025-04-12T15:02:07.033151Z",
     "iopub.status.idle": "2025-04-12T15:02:11.702103Z",
     "shell.execute_reply": "2025-04-12T15:02:11.701165Z",
     "shell.execute_reply.started": "2025-04-12T15:02:07.033510Z"
    },
    "jupyter": {
     "outputs_hidden": false
    },
    "trusted": true
   },
   "outputs": [],
   "source": [
    "!pip install wandb"
   ]
  },
  {
   "cell_type": "code",
   "execution_count": null,
   "metadata": {
    "_cell_guid": "e2894aab-851a-4f64-b043-78f0c2e20a57",
    "_uuid": "3d23313a-207c-4e0e-ba94-a2de4eaa74fe",
    "collapsed": false,
    "execution": {
     "iopub.execute_input": "2025-04-12T14:52:15.212312Z",
     "iopub.status.busy": "2025-04-12T14:52:15.211989Z",
     "iopub.status.idle": "2025-04-12T14:52:15.218636Z",
     "shell.execute_reply": "2025-04-12T14:52:15.217973Z",
     "shell.execute_reply.started": "2025-04-12T14:52:15.212279Z"
    },
    "jupyter": {
     "outputs_hidden": false
    },
    "trusted": true
   },
   "outputs": [],
   "source": [
    "pwd"
   ]
  },
  {
   "cell_type": "code",
   "execution_count": null,
   "metadata": {
    "_cell_guid": "f83b8714-a41b-45d3-a28c-e6e8ba02bb6f",
    "_uuid": "4ce0704d-6449-4c26-bd0a-b3fcdbbf2402",
    "collapsed": false,
    "execution": {
     "iopub.execute_input": "2025-04-12T15:02:22.495264Z",
     "iopub.status.busy": "2025-04-12T15:02:22.494916Z",
     "iopub.status.idle": "2025-04-12T15:03:05.526618Z",
     "shell.execute_reply": "2025-04-12T15:03:05.525421Z",
     "shell.execute_reply.started": "2025-04-12T15:02:22.495238Z"
    },
    "jupyter": {
     "outputs_hidden": false
    },
    "trusted": true
   },
   "outputs": [],
   "source": [
    "!aria2c -x 16 -s 16 https://www.crcv.ucf.edu/data/UCF101/UCF101.rar --check-certificate=false"
   ]
  },
  {
   "cell_type": "code",
   "execution_count": null,
   "metadata": {
    "_cell_guid": "18477c50-6d68-4e3f-8ace-f9cf990e2d5f",
    "_uuid": "f8cf8195-41d2-4bc5-8129-25220d1031da",
    "collapsed": false,
    "jupyter": {
     "outputs_hidden": false
    },
    "trusted": true
   },
   "outputs": [],
   "source": [
    "!unrar x UCF101.rar"
   ]
  },
  {
   "cell_type": "code",
   "execution_count": null,
   "metadata": {
    "_cell_guid": "62b5b1f0-be1a-4a44-875e-b53c0ab23e03",
    "_uuid": "b3fc3663-a563-428b-a5a8-ed65e23b03ca",
    "collapsed": false,
    "execution": {
     "execution_failed": "2025-04-12T14:56:37.279Z"
    },
    "jupyter": {
     "outputs_hidden": false
    },
    "trusted": true
   },
   "outputs": [],
   "source": [
    "!pwd"
   ]
  },
  {
   "cell_type": "code",
   "execution_count": null,
   "metadata": {
    "_cell_guid": "43bce610-76c5-426a-9968-0fa623051fcb",
    "_uuid": "ce2fb6a7-09ea-46a2-84a2-15054c2d0290",
    "collapsed": false,
    "execution": {
     "iopub.execute_input": "2025-04-12T15:07:28.282447Z",
     "iopub.status.busy": "2025-04-12T15:07:28.282062Z",
     "iopub.status.idle": "2025-04-12T15:07:33.477623Z",
     "shell.execute_reply": "2025-04-12T15:07:33.476543Z",
     "shell.execute_reply.started": "2025-04-12T15:07:28.282416Z"
    },
    "jupyter": {
     "outputs_hidden": false
    },
    "trusted": true
   },
   "outputs": [],
   "source": [
    "!pip install decord"
   ]
  },
  {
   "cell_type": "code",
   "execution_count": null,
   "metadata": {
    "_cell_guid": "dd464e85-935e-4aec-b299-b29af838c4f9",
    "_uuid": "c021bc92-23e6-4852-8833-710fa7eb769b",
    "collapsed": false,
    "execution": {
     "iopub.execute_input": "2025-04-10T20:46:12.197363Z",
     "iopub.status.busy": "2025-04-10T20:46:12.196949Z",
     "iopub.status.idle": "2025-04-10T20:46:12.318535Z",
     "shell.execute_reply": "2025-04-10T20:46:12.317597Z",
     "shell.execute_reply.started": "2025-04-10T20:46:12.197322Z"
    },
    "jupyter": {
     "outputs_hidden": false
    },
    "trusted": true
   },
   "outputs": [],
   "source": [
    "!ls"
   ]
  },
  {
   "cell_type": "code",
   "execution_count": null,
   "metadata": {
    "_cell_guid": "766f8581-18e8-4de4-911f-8fa8eaeb582b",
    "_uuid": "4dbf6013-d770-4a9b-8c55-a11fb544cf34",
    "collapsed": false,
    "execution": {
     "iopub.execute_input": "2025-04-12T15:07:37.667988Z",
     "iopub.status.busy": "2025-04-12T15:07:37.667571Z",
     "iopub.status.idle": "2025-04-12T15:08:01.852096Z",
     "shell.execute_reply": "2025-04-12T15:08:01.851211Z",
     "shell.execute_reply.started": "2025-04-12T15:07:37.667950Z"
    },
    "jupyter": {
     "outputs_hidden": false
    },
    "trusted": true
   },
   "outputs": [],
   "source": [
    "import torch\n",
    "import torch.nn as nn\n",
    "import torch.optim as optim\n",
    "from torch.utils.data import DataLoader, Dataset, random_split\n",
    "import torchvision.transforms as tv\n",
    "from PIL import Image\n",
    "import decord\n",
    "import numpy as np\n",
    "from einops import reduce\n",
    "from tqdm import tqdm\n",
    "import gc\n",
    "from transformers import Blip2Processor, Blip2Model\n",
    "from transformers import AutoImageProcessor, Dinov2Model\n",
    "from datetime import datetime\n",
    "import logging\n",
    "import os\n",
    "import random\n",
    "\n",
    "random.seed(42)\n",
    "torch.manual_seed(42)"
   ]
  },
  {
   "cell_type": "code",
   "execution_count": null,
   "metadata": {
    "_cell_guid": "10b0f196-25b4-4779-9917-4b13740d4ceb",
    "_uuid": "2728913e-885f-49be-bd04-5974cf819c59",
    "collapsed": false,
    "execution": {
     "iopub.execute_input": "2025-04-12T15:25:55.526980Z",
     "iopub.status.busy": "2025-04-12T15:25:55.526508Z",
     "iopub.status.idle": "2025-04-12T15:25:55.539179Z",
     "shell.execute_reply": "2025-04-12T15:25:55.538419Z",
     "shell.execute_reply.started": "2025-04-12T15:25:55.526943Z"
    },
    "jupyter": {
     "outputs_hidden": false
    },
    "trusted": true
   },
   "outputs": [],
   "source": [
    "class UCFDataset(torch.utils.data.Dataset):\n",
    "    def __init__(self, dataset_dir, video_dir, subset, video_list_file, frames_per_clip=16):\n",
    "        super().__init__()\n",
    "        self.dataset_dir = dataset_dir\n",
    "        self.video_dir = video_dir\n",
    "        self.subset = subset\n",
    "        self.video_list_file = video_list_file\n",
    "        self.video_list = []\n",
    "        self.labels = []\n",
    "\n",
    "        for i in [1, 2, 3]:\n",
    "            file_path = f'{dataset_dir}/{video_list_file}{i}.txt'\n",
    "            with open(file_path, 'r') as video_names_file:\n",
    "                if self.subset == \"train\":\n",
    "                    tempvideo_list, templabels = zip(*[line.strip().split() for line in video_names_file])\n",
    "                    self.video_list.extend(tempvideo_list)\n",
    "                    self.labels.extend(templabels)\n",
    "                else:\n",
    "                    self.video_list.extend([line.strip() for line in video_names_file])\n",
    "                    self.labels.extend([None] * len(self.video_list))\n",
    "\n",
    "        self.frames_per_clip = frames_per_clip\n",
    "\n",
    "        self.transform = tv.transforms.Compose([\n",
    "            tv.transforms.Resize((224, 224)),\n",
    "            tv.transforms.ToTensor(),\n",
    "            tv.transforms.Normalize(mean=[0.4914, 0.4822, 0.4465], std=[0.2470, 0.2435, 0.2616]),\n",
    "        ])\n",
    "\n",
    "    def __len__(self):\n",
    "        return len(self.video_list)\n",
    "        \n",
    "\n",
    "    def __getitem__(self, idx):\n",
    "        videoname = self.video_list[idx]\n",
    "        video_path = f'{self.video_dir}/{videoname}'\n",
    "        vid = decord.VideoReader(video_path, ctx=decord.cpu(0))\n",
    "        nframes = len(vid)\n",
    "\n",
    "        if nframes <= self.frames_per_clip:\n",
    "            idxs = np.arange(self.frames_per_clip) % nframes\n",
    "        else:\n",
    "            idxs = np.linspace(0, nframes - 1, self.frames_per_clip).astype(int)\n",
    "\n",
    "        imgs = [self.transform(Image.fromarray(vid[i].asnumpy())) for i in idxs]\n",
    "        imgs = torch.stack(imgs, dim=1)\n",
    "\n",
    "        if self.subset == \"train\":\n",
    "            label = int(self.labels[idx]) - 1\n",
    "        else:\n",
    "            with open(f'{self.dataset_dir}/classInd.txt', 'r') as class_indices:\n",
    "                class_map = {line.split()[1]: int(line.split()[0]) for line in class_indices}\n",
    "            label = class_map[videoname.split('/')[0]]\n",
    "\n",
    "        return imgs, label"
   ]
  },
  {
   "cell_type": "code",
   "execution_count": null,
   "metadata": {
    "_cell_guid": "c649cd5a-49a8-4c0a-9e28-ca3189318f30",
    "_uuid": "e165ad4b-6a6a-4e7a-be2c-eb48a42383fb",
    "collapsed": false,
    "execution": {
     "iopub.execute_input": "2025-04-12T15:26:10.463026Z",
     "iopub.status.busy": "2025-04-12T15:26:10.462621Z",
     "iopub.status.idle": "2025-04-12T15:26:10.469729Z",
     "shell.execute_reply": "2025-04-12T15:26:10.468901Z",
     "shell.execute_reply.started": "2025-04-12T15:26:10.462994Z"
    },
    "jupyter": {
     "outputs_hidden": false
    },
    "trusted": true
   },
   "outputs": [],
   "source": [
    "class MLP(nn.Module):\n",
    "    def __init__(self, dim, n_class, dino):\n",
    "        super().__init__()\n",
    "        self.dino = dino\n",
    "        self.dino.eval()\n",
    "        self.mlp = nn.Linear(dim, n_class)\n",
    "        self.h_dim = dim\n",
    "\n",
    "    def forward(self, inp):\n",
    "        with torch.no_grad():\n",
    "            B, C, T, H, W = inp.shape\n",
    "            inp = inp.transpose(1, 2).reshape(B * T, C, H, W)\n",
    "            output = self.dino(inp).last_hidden_state\n",
    "\n",
    "        output = output[:, 0, :]\n",
    "        output = output.reshape(B, T, -1)\n",
    "        output = output.mean(dim=-2)\n",
    "        return self.mlp(output)"
   ]
  },
  {
   "cell_type": "code",
   "execution_count": 2,
   "metadata": {
    "_cell_guid": "10aaf8bc-8740-4469-b207-1b24a148c62d",
    "_uuid": "8fd8649c-a65e-440f-8cb0-f1d87adcb876",
    "collapsed": false,
    "execution": {
     "iopub.execute_input": "2025-04-16T05:52:08.096146Z",
     "iopub.status.busy": "2025-04-16T05:52:08.095885Z",
     "iopub.status.idle": "2025-04-16T05:52:09.061525Z",
     "shell.execute_reply": "2025-04-16T05:52:09.060381Z",
     "shell.execute_reply.started": "2025-04-16T05:52:08.096127Z"
    },
    "jupyter": {
     "outputs_hidden": false
    },
    "trusted": true
   },
   "outputs": [
    {
     "name": "stdout",
     "output_type": "stream",
     "text": [
      "Cloning into 'anomally_detection'...\n",
      "remote: Enumerating objects: 22, done.\u001b[K\n",
      "remote: Counting objects: 100% (22/22), done.\u001b[K\n",
      "remote: Compressing objects: 100% (20/20), done.\u001b[K\n",
      "remote: Total 22 (delta 8), reused 0 (delta 0), pack-reused 0 (from 0)\u001b[K\n",
      "Receiving objects: 100% (22/22), 105.41 KiB | 3.90 MiB/s, done.\n",
      "Resolving deltas: 100% (8/8), done.\n"
     ]
    }
   ],
   "source": [
    "!git clone https://github.com/BhashkarKumar2/anomally_detection"
   ]
  },
  {
   "cell_type": "code",
   "execution_count": null,
   "metadata": {
    "_cell_guid": "f23b6d48-f41d-45c0-b508-b780a55833b2",
    "_uuid": "c62f5ecb-f584-44ec-826c-f9a0e33238e5",
    "collapsed": false,
    "execution": {
     "iopub.execute_input": "2025-04-12T15:28:46.629424Z",
     "iopub.status.busy": "2025-04-12T15:28:46.629033Z",
     "iopub.status.idle": "2025-04-12T15:28:46.668068Z",
     "shell.execute_reply": "2025-04-12T15:28:46.667105Z",
     "shell.execute_reply.started": "2025-04-12T15:28:46.629392Z"
    },
    "jupyter": {
     "outputs_hidden": false
    },
    "trusted": true
   },
   "outputs": [],
   "source": [
    "dataset_dir = \"/kaggle/working/anomally_detection/UCF101TrainTestSplits-RecognitionTask\"\n",
    "video_dir = \"/kaggle/working/UCF-101\"\n",
    "frames_per_clip = 8\n",
    "batch_size = 64\n",
    "num_workers = 8\n",
    "pin_memory = True\n",
    "device = \"cuda\"\n",
    "epochs = 10\n",
    "lr = 2e-5\n",
    "num_classes = 101\n",
    "\n",
    "train_val_data = UCFDataset(dataset_dir, video_dir, \"train\", \"trainlist0\", frames_per_clip)\n",
    "train_len = int(0.85 * len(train_val_data))\n",
    "train_data, val_data = random_split(train_val_data, [train_len, len(train_val_data) - train_len])\n",
    "\n",
    "train_loader = DataLoader(train_data, batch_size=batch_size, shuffle=True, num_workers=num_workers, pin_memory=pin_memory)\n",
    "val_loader = DataLoader(val_data, batch_size=batch_size, num_workers=num_workers, pin_memory=pin_memory)"
   ]
  },
  {
   "cell_type": "code",
   "execution_count": null,
   "metadata": {
    "_cell_guid": "dbe6cda8-099f-4ceb-8ae8-32b4f6d44e0b",
    "_uuid": "ca552db3-ded1-467d-a660-73a16da19591",
    "collapsed": false,
    "jupyter": {
     "outputs_hidden": false
    },
    "trusted": true
   },
   "outputs": [],
   "source": []
  },
  {
   "cell_type": "code",
   "execution_count": null,
   "metadata": {
    "_cell_guid": "5f82189d-c944-4cb2-bebb-78099a434706",
    "_uuid": "2bff7975-4e3b-4c1e-b8cb-cd0167c99d19",
    "collapsed": false,
    "execution": {
     "iopub.execute_input": "2025-04-12T15:18:56.154710Z",
     "iopub.status.busy": "2025-04-12T15:18:56.154324Z",
     "iopub.status.idle": "2025-04-12T15:18:56.481339Z",
     "shell.execute_reply": "2025-04-12T15:18:56.480453Z",
     "shell.execute_reply.started": "2025-04-12T15:18:56.154679Z"
    },
    "jupyter": {
     "outputs_hidden": false
    },
    "trusted": true
   },
   "outputs": [],
   "source": [
    "dino = Dinov2Model.from_pretrained('facebook/dinov2-base')\n",
    "for param in dino.parameters():\n",
    "    param.requires_grad = False"
   ]
  },
  {
   "cell_type": "code",
   "execution_count": null,
   "metadata": {
    "_cell_guid": "26508870-044d-4733-a375-371baf848c18",
    "_uuid": "e600fcbd-505f-4dea-987a-a2950251f8e9",
    "collapsed": false,
    "execution": {
     "iopub.execute_input": "2025-04-12T15:18:58.753531Z",
     "iopub.status.busy": "2025-04-12T15:18:58.753229Z",
     "iopub.status.idle": "2025-04-12T15:18:58.923507Z",
     "shell.execute_reply": "2025-04-12T15:18:58.922745Z",
     "shell.execute_reply.started": "2025-04-12T15:18:58.753506Z"
    },
    "jupyter": {
     "outputs_hidden": false
    },
    "trusted": true
   },
   "outputs": [],
   "source": [
    "model = MLP(768, num_classes, dino)\n",
    "model.to(device)\n",
    "\n",
    "for name, params in model.named_parameters():\n",
    "    if params.requires_grad:\n",
    "        print(name)\n",
    "\n",
    "loss_criterion = nn.CrossEntropyLoss()\n",
    "T_max = epochs * len(train_loader)\n",
    "optimizer = optim.AdamW(model.parameters(), lr=lr, weight_decay=5e-4)\n",
    "scheduler = optim.lr_scheduler.CosineAnnealingLR(optimizer, T_max=T_max)"
   ]
  },
  {
   "cell_type": "code",
   "execution_count": null,
   "metadata": {
    "_cell_guid": "2aac419a-ce64-43d4-8690-7b0da9ec205c",
    "_uuid": "5e27d7a1-316c-441e-9f5f-9f2787e2aceb",
    "collapsed": false,
    "execution": {
     "iopub.execute_input": "2025-04-12T15:20:33.827531Z",
     "iopub.status.busy": "2025-04-12T15:20:33.827199Z",
     "iopub.status.idle": "2025-04-12T15:20:40.611375Z",
     "shell.execute_reply": "2025-04-12T15:20:40.610563Z",
     "shell.execute_reply.started": "2025-04-12T15:20:33.827506Z"
    },
    "jupyter": {
     "outputs_hidden": false
    },
    "trusted": true
   },
   "outputs": [],
   "source": [
    "import wandb\n",
    "\n",
    "wandb.login(key=\"7d4e6e189c75e2a9a1c2b7ad8dfc76d79ca9b67a\")\n",
    "wandb.init()"
   ]
  },
  {
   "cell_type": "code",
   "execution_count": null,
   "metadata": {
    "_cell_guid": "1f6a8937-c656-447c-92ed-8db5dc91601d",
    "_uuid": "09fbda19-e7ea-4973-827b-1adf3de5c992",
    "collapsed": false,
    "execution": {
     "iopub.execute_input": "2025-04-12T15:20:44.546243Z",
     "iopub.status.busy": "2025-04-12T15:20:44.545928Z",
     "iopub.status.idle": "2025-04-12T15:20:44.552606Z",
     "shell.execute_reply": "2025-04-12T15:20:44.551656Z",
     "shell.execute_reply.started": "2025-04-12T15:20:44.546219Z"
    },
    "jupyter": {
     "outputs_hidden": false
    },
    "trusted": true
   },
   "outputs": [],
   "source": [
    "def top_k_accuracy(output, target, topk=(1, 5)):\n",
    "    maxk = max(topk)\n",
    "    batch_size = target.size(0)\n",
    "\n",
    "    _, pred = output.topk(maxk, 1, True, True)\n",
    "    pred = pred.t()\n",
    "    correct = pred.eq(target.view(1, -1).expand_as(pred))\n",
    "\n",
    "    res = []\n",
    "    for k in topk:\n",
    "        correct_k = correct[:k].reshape(-1).float().sum(0, keepdim=True)\n",
    "        res.append(correct_k.mul_(100.0 / batch_size))\n",
    "    return res"
   ]
  },
  {
   "cell_type": "code",
   "execution_count": null,
   "metadata": {
    "_cell_guid": "f2439131-e9c1-477b-b982-21eccaafb471",
    "_uuid": "6ae8eeb3-fa2f-40a2-8ac6-d6ccbfcf01f8",
    "collapsed": false,
    "jupyter": {
     "outputs_hidden": false
    },
    "trusted": true
   },
   "outputs": [],
   "source": []
  },
  {
   "cell_type": "code",
   "execution_count": null,
   "metadata": {
    "_cell_guid": "b063c031-696f-4836-928d-1afb93e11966",
    "_uuid": "6c28b90a-a465-4a2d-8c63-b6b8029ad848",
    "collapsed": false,
    "execution": {
     "iopub.execute_input": "2025-04-12T15:30:55.855099Z",
     "iopub.status.busy": "2025-04-12T15:30:55.854727Z",
     "iopub.status.idle": "2025-04-12T15:30:55.863073Z",
     "shell.execute_reply": "2025-04-12T15:30:55.862037Z",
     "shell.execute_reply.started": "2025-04-12T15:30:55.855069Z"
    },
    "jupyter": {
     "outputs_hidden": false
    },
    "trusted": true
   },
   "outputs": [],
   "source": [
    "def train_step(loader, epoch, scheduler):\n",
    "    model.train()\n",
    "    total_loss = 0\n",
    "    correct_top1_train = 0\n",
    "    correct_top5_train = 0\n",
    "    for batch_id, (video_data, labels) in enumerate(loader):\n",
    "        video_data, labels = video_data.to(device), labels.to(device)\n",
    "\n",
    "        optimizer.zero_grad()\n",
    "        prediction = model(video_data)\n",
    "        loss = loss_criterion(prediction, labels)\n",
    "        total_loss += loss.item()\n",
    "\n",
    "        top1, top5 = top_k_accuracy(prediction, labels)\n",
    "        correct_top1_train += top1.item()\n",
    "        correct_top5_train += top5.item()\n",
    "        \n",
    "        loss.backward()\n",
    "        optimizer.step()\n",
    "        scheduler.step()\n",
    "\n",
    "        del video_data, labels\n",
    "        gc.collect()\n",
    "\n",
    "    top1_accuracy = correct_top1_train / len(loader)\n",
    "    top5_accuracy = correct_top5_train / len(loader)\n",
    "    loss = total_loss / len(loader)\n",
    "    \n",
    "\n",
    "    print(f\"[Train Epoch {epoch}] Top-1 Acc: {top1_accuracy:.2f}% | Top-5 Acc: {top5_accuracy:.2f}% | Loss: {loss:.4f}\")\n",
    "    return top1_accuracy, top5_accuracy, loss"
   ]
  },
  {
   "cell_type": "code",
   "execution_count": null,
   "metadata": {
    "_cell_guid": "5588aa21-9cde-487a-8d15-93fbfa895f0a",
    "_uuid": "ba2ad14d-bc00-42d8-866d-5f78d5779891",
    "collapsed": false,
    "execution": {
     "iopub.execute_input": "2025-04-12T15:20:52.257782Z",
     "iopub.status.busy": "2025-04-12T15:20:52.257422Z",
     "iopub.status.idle": "2025-04-12T15:20:52.265528Z",
     "shell.execute_reply": "2025-04-12T15:20:52.264740Z",
     "shell.execute_reply.started": "2025-04-12T15:20:52.257749Z"
    },
    "jupyter": {
     "outputs_hidden": false
    },
    "trusted": true
   },
   "outputs": [],
   "source": [
    "def val_step(loader, epoch):\n",
    "    model.eval()\n",
    "    total_loss = 0\n",
    "    correct_top1_train = 0\n",
    "    correct_top5_train = 0\n",
    "\n",
    "    with torch.no_grad():\n",
    "        for batch_id, (video_data, labels) in enumerate(loader):\n",
    "            video_data, labels = video_data.to(device), labels.to(device)\n",
    "            prediction = model(video_data)\n",
    "            loss = loss_criterion(prediction, labels)\n",
    "            total_loss += loss.item()\n",
    "\n",
    "            top1, top5 = top_k_accuracy(prediction, labels)\n",
    "            correct_top1_train += top1.item()\n",
    "            correct_top5_train += top5.item()\n",
    "\n",
    "            # ✅ Log loss at each step\n",
    "            wandb.log({\"val/loss_step\": loss.item()})\n",
    "\n",
    "    top1_accuracy = correct_top1_train / len(loader)\n",
    "    top5_accuracy = correct_top5_train / len(loader)\n",
    "    loss = total_loss / len(loader)\n",
    "\n",
    "    print(f\"[Val Epoch {epoch}] Top-1 Acc: {top1_accuracy:.2f}% | Top-5 Acc: {top5_accuracy:.2f}% | Loss: {loss:.4f}\")\n",
    "\n",
    "    # ✅ Log final metrics at the end of the epoch\n",
    "    wandb.log({\n",
    "        \"val/epoch\": epoch,\n",
    "        \"val/loss_epoch\": loss,\n",
    "        \"val/top1_acc\": top1_accuracy,\n",
    "        \"val/top5_acc\": top5_accuracy\n",
    "    })\n",
    "\n",
    "    return top1_accuracy, top5_accuracy, loss"
   ]
  },
  {
   "cell_type": "code",
   "execution_count": null,
   "metadata": {
    "_cell_guid": "3074ae3b-36b0-48d3-adce-7b8f38b1a852",
    "_uuid": "eb7d6428-11ce-4de1-86ea-13b51e2365b6",
    "collapsed": false,
    "execution": {
     "iopub.execute_input": "2025-04-12T15:28:54.988880Z",
     "iopub.status.busy": "2025-04-12T15:28:54.988513Z",
     "iopub.status.idle": "2025-04-12T15:30:55.853096Z",
     "shell.execute_reply": "2025-04-12T15:30:55.851954Z",
     "shell.execute_reply.started": "2025-04-12T15:28:54.988847Z"
    },
    "jupyter": {
     "outputs_hidden": false
    },
    "trusted": true
   },
   "outputs": [],
   "source": [
    "\n",
    "new_acc=float(\"-inf\")\n",
    "checkpoint_dir=\"checkpoints_corrected\"\n",
    "os.makedirs(checkpoint_dir,exist_ok=True)\n",
    "for epoch in range(1, epochs + 1):\n",
    "    train_top1, train_top5, train_loss = train_step(train_loader, epoch, scheduler)\n",
    "    val_top1, val_top5, val_loss = val_step(val_loader, epoch)\n",
    "    if(val_top1>new_acc):\n",
    "        new_acc=val_top1\n",
    "        print(f\"Saving model at epoch {epoch}\")\n",
    "        torch.save(model.state_dict(), os.path.join(checkpoint_dir,f\"model_epoch_{epoch}.pth\"))\n",
    "\n"
   ]
  }
 ],
 "metadata": {
  "kaggle": {
   "accelerator": "gpu",
   "dataSources": [],
   "dockerImageVersionId": 30919,
   "isGpuEnabled": true,
   "isInternetEnabled": true,
   "language": "python",
   "sourceType": "notebook"
  },
  "kernelspec": {
   "display_name": "Python 3",
   "language": "python",
   "name": "python3"
  },
  "language_info": {
   "codemirror_mode": {
    "name": "ipython",
    "version": 3
   },
   "file_extension": ".py",
   "mimetype": "text/x-python",
   "name": "python",
   "nbconvert_exporter": "python",
   "pygments_lexer": "ipython3",
   "version": "3.12.4"
  }
 },
 "nbformat": 4,
 "nbformat_minor": 4
}
